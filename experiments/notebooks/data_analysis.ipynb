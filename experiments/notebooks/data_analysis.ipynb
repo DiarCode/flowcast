{
 "cells": [
  {
   "cell_type": "markdown",
   "metadata": {},
   "source": [
    "# 🚍 Real-Time Adaptive Passenger Flow Prediction: Data Analysis and Insights\n",
    "\n",
    "## 📋 Objective\n",
    "The goal is to explore the dataset to derive meaningful insights and prepare it for building a hybrid model for real-time passenger flow prediction.\n",
    "\n",
    "---\n",
    "\n",
    "## 📂 Dataset Overview\n",
    "The dataset contains transportation data for buses with the following columns:\n",
    "- **id**: Unique identifier for each record.\n",
    "- **bus_stop_id**: ID of the bus stop.\n",
    "- **bus_id**: ID of the bus.\n",
    "- **enter_sum**: Number of passengers entering.\n",
    "- **exit_sum**: Number of passengers exiting.\n",
    "- **bus_board_computer_sent_time**: Time the data was sent by the bus's computer.\n",
    "- **created_time**: Time the record was created.\n",
    "- **route_number**: Route number of the bus.\n",
    "- **tickets_count**: Count of tickets issued.\n",
    "\n",
    "---\n",
    "\n",
    "## 📊 Step 1: Data Loading and Overview"
   ]
  },
  {
   "cell_type": "code",
   "execution_count": 243,
   "metadata": {},
   "outputs": [
    {
     "data": {
      "text/html": [
       "<div>\n",
       "<style scoped>\n",
       "    .dataframe tbody tr th:only-of-type {\n",
       "        vertical-align: middle;\n",
       "    }\n",
       "\n",
       "    .dataframe tbody tr th {\n",
       "        vertical-align: top;\n",
       "    }\n",
       "\n",
       "    .dataframe thead th {\n",
       "        text-align: right;\n",
       "    }\n",
       "</style>\n",
       "<table border=\"1\" class=\"dataframe\">\n",
       "  <thead>\n",
       "    <tr style=\"text-align: right;\">\n",
       "      <th></th>\n",
       "      <th>id</th>\n",
       "      <th>bus_stop_id</th>\n",
       "      <th>bus_id</th>\n",
       "      <th>enter_sum</th>\n",
       "      <th>exit_sum</th>\n",
       "      <th>bus_board_computer_sent_time</th>\n",
       "      <th>created_time</th>\n",
       "      <th>route_number</th>\n",
       "      <th>tickets_count</th>\n",
       "    </tr>\n",
       "  </thead>\n",
       "  <tbody>\n",
       "    <tr>\n",
       "      <th>0</th>\n",
       "      <td>1943536686</td>\n",
       "      <td>3351</td>\n",
       "      <td>1130</td>\n",
       "      <td>0</td>\n",
       "      <td>13</td>\n",
       "      <td>2024-12-07T12:18:33.793</td>\n",
       "      <td>2024-12-07T12:23:55.523</td>\n",
       "      <td>50</td>\n",
       "      <td>0.0</td>\n",
       "    </tr>\n",
       "    <tr>\n",
       "      <th>1</th>\n",
       "      <td>1944382769</td>\n",
       "      <td>1583</td>\n",
       "      <td>1130</td>\n",
       "      <td>6</td>\n",
       "      <td>3</td>\n",
       "      <td>2024-12-07T15:19:20.206</td>\n",
       "      <td>2024-12-07T15:19:23.203</td>\n",
       "      <td>50</td>\n",
       "      <td>4.0</td>\n",
       "    </tr>\n",
       "    <tr>\n",
       "      <th>2</th>\n",
       "      <td>1942750230</td>\n",
       "      <td>1665</td>\n",
       "      <td>4901</td>\n",
       "      <td>9</td>\n",
       "      <td>0</td>\n",
       "      <td>2024-12-07T09:23:26.477</td>\n",
       "      <td>2024-12-07T09:28:44.387</td>\n",
       "      <td>12</td>\n",
       "      <td>11.0</td>\n",
       "    </tr>\n",
       "    <tr>\n",
       "      <th>3</th>\n",
       "      <td>1942714572</td>\n",
       "      <td>2366</td>\n",
       "      <td>1129</td>\n",
       "      <td>1</td>\n",
       "      <td>5</td>\n",
       "      <td>2024-12-07T09:13:17.693</td>\n",
       "      <td>2024-12-07T09:21:03.46</td>\n",
       "      <td>50</td>\n",
       "      <td>2.0</td>\n",
       "    </tr>\n",
       "    <tr>\n",
       "      <th>4</th>\n",
       "      <td>1944416426</td>\n",
       "      <td>1963</td>\n",
       "      <td>1129</td>\n",
       "      <td>5</td>\n",
       "      <td>8</td>\n",
       "      <td>2024-12-07T15:17:55.33</td>\n",
       "      <td>2024-12-07T15:26:59.704</td>\n",
       "      <td>50</td>\n",
       "      <td>1.0</td>\n",
       "    </tr>\n",
       "  </tbody>\n",
       "</table>\n",
       "</div>"
      ],
      "text/plain": [
       "           id  bus_stop_id  bus_id  enter_sum  exit_sum  \\\n",
       "0  1943536686         3351    1130          0        13   \n",
       "1  1944382769         1583    1130          6         3   \n",
       "2  1942750230         1665    4901          9         0   \n",
       "3  1942714572         2366    1129          1         5   \n",
       "4  1944416426         1963    1129          5         8   \n",
       "\n",
       "  bus_board_computer_sent_time             created_time  route_number  \\\n",
       "0      2024-12-07T12:18:33.793  2024-12-07T12:23:55.523            50   \n",
       "1      2024-12-07T15:19:20.206  2024-12-07T15:19:23.203            50   \n",
       "2      2024-12-07T09:23:26.477  2024-12-07T09:28:44.387            12   \n",
       "3      2024-12-07T09:13:17.693   2024-12-07T09:21:03.46            50   \n",
       "4       2024-12-07T15:17:55.33  2024-12-07T15:26:59.704            50   \n",
       "\n",
       "   tickets_count  \n",
       "0            0.0  \n",
       "1            4.0  \n",
       "2           11.0  \n",
       "3            2.0  \n",
       "4            1.0  "
      ]
     },
     "execution_count": 243,
     "metadata": {},
     "output_type": "execute_result"
    }
   ],
   "source": [
    "# Importing necessary libraries\n",
    "import pandas as pd\n",
    "import matplotlib.pyplot as plt\n",
    "import seaborn as sns\n",
    "\n",
    "# Load the dataset\n",
    "file_path = '../data/PassFlow.csv'  # Replace with the actual path\n",
    "data = pd.read_csv(file_path)\n",
    "\n",
    "# Display the first few rows\n",
    "data.head()"
   ]
  },
  {
   "cell_type": "markdown",
   "metadata": {},
   "source": [
    "## 🔍 Step 2: Data Inspection\n",
    "### 🛠 Basic Information"
   ]
  },
  {
   "cell_type": "code",
   "execution_count": 244,
   "metadata": {},
   "outputs": [
    {
     "name": "stdout",
     "output_type": "stream",
     "text": [
      "<class 'pandas.core.frame.DataFrame'>\n",
      "RangeIndex: 4694 entries, 0 to 4693\n",
      "Data columns (total 9 columns):\n",
      " #   Column                        Non-Null Count  Dtype  \n",
      "---  ------                        --------------  -----  \n",
      " 0   id                            4694 non-null   int64  \n",
      " 1   bus_stop_id                   4694 non-null   int64  \n",
      " 2   bus_id                        4694 non-null   int64  \n",
      " 3   enter_sum                     4694 non-null   int64  \n",
      " 4   exit_sum                      4694 non-null   int64  \n",
      " 5   bus_board_computer_sent_time  4694 non-null   object \n",
      " 6   created_time                  4694 non-null   object \n",
      " 7   route_number                  4694 non-null   int64  \n",
      " 8   tickets_count                 4684 non-null   float64\n",
      "dtypes: float64(1), int64(6), object(2)\n",
      "memory usage: 330.2+ KB\n"
     ]
    },
    {
     "data": {
      "text/html": [
       "<div>\n",
       "<style scoped>\n",
       "    .dataframe tbody tr th:only-of-type {\n",
       "        vertical-align: middle;\n",
       "    }\n",
       "\n",
       "    .dataframe tbody tr th {\n",
       "        vertical-align: top;\n",
       "    }\n",
       "\n",
       "    .dataframe thead th {\n",
       "        text-align: right;\n",
       "    }\n",
       "</style>\n",
       "<table border=\"1\" class=\"dataframe\">\n",
       "  <thead>\n",
       "    <tr style=\"text-align: right;\">\n",
       "      <th></th>\n",
       "      <th>id</th>\n",
       "      <th>bus_stop_id</th>\n",
       "      <th>bus_id</th>\n",
       "      <th>enter_sum</th>\n",
       "      <th>exit_sum</th>\n",
       "      <th>route_number</th>\n",
       "      <th>tickets_count</th>\n",
       "    </tr>\n",
       "  </thead>\n",
       "  <tbody>\n",
       "    <tr>\n",
       "      <th>count</th>\n",
       "      <td>4.694000e+03</td>\n",
       "      <td>4.694000e+03</td>\n",
       "      <td>4694.000000</td>\n",
       "      <td>4694.000000</td>\n",
       "      <td>4694.000000</td>\n",
       "      <td>4694.000000</td>\n",
       "      <td>4684.000000</td>\n",
       "    </tr>\n",
       "    <tr>\n",
       "      <th>mean</th>\n",
       "      <td>1.947989e+09</td>\n",
       "      <td>2.017746e+05</td>\n",
       "      <td>1845.310609</td>\n",
       "      <td>2.087133</td>\n",
       "      <td>2.255432</td>\n",
       "      <td>46.618662</td>\n",
       "      <td>2.104184</td>\n",
       "    </tr>\n",
       "    <tr>\n",
       "      <th>std</th>\n",
       "      <td>3.960255e+06</td>\n",
       "      <td>9.666423e+06</td>\n",
       "      <td>1483.316699</td>\n",
       "      <td>3.026672</td>\n",
       "      <td>3.059351</td>\n",
       "      <td>10.696553</td>\n",
       "      <td>2.969385</td>\n",
       "    </tr>\n",
       "    <tr>\n",
       "      <th>min</th>\n",
       "      <td>1.941940e+09</td>\n",
       "      <td>1.373000e+03</td>\n",
       "      <td>1117.000000</td>\n",
       "      <td>0.000000</td>\n",
       "      <td>0.000000</td>\n",
       "      <td>12.000000</td>\n",
       "      <td>0.000000</td>\n",
       "    </tr>\n",
       "    <tr>\n",
       "      <th>25%</th>\n",
       "      <td>1.944417e+09</td>\n",
       "      <td>1.961000e+03</td>\n",
       "      <td>1122.000000</td>\n",
       "      <td>0.000000</td>\n",
       "      <td>0.000000</td>\n",
       "      <td>50.000000</td>\n",
       "      <td>0.000000</td>\n",
       "    </tr>\n",
       "    <tr>\n",
       "      <th>50%</th>\n",
       "      <td>1.948003e+09</td>\n",
       "      <td>2.135500e+03</td>\n",
       "      <td>1129.000000</td>\n",
       "      <td>1.000000</td>\n",
       "      <td>1.000000</td>\n",
       "      <td>50.000000</td>\n",
       "      <td>1.000000</td>\n",
       "    </tr>\n",
       "    <tr>\n",
       "      <th>75%</th>\n",
       "      <td>1.951402e+09</td>\n",
       "      <td>2.359000e+03</td>\n",
       "      <td>1130.000000</td>\n",
       "      <td>3.000000</td>\n",
       "      <td>3.000000</td>\n",
       "      <td>50.000000</td>\n",
       "      <td>3.000000</td>\n",
       "    </tr>\n",
       "    <tr>\n",
       "      <th>max</th>\n",
       "      <td>1.954772e+09</td>\n",
       "      <td>4.683761e+08</td>\n",
       "      <td>4901.000000</td>\n",
       "      <td>32.000000</td>\n",
       "      <td>29.000000</td>\n",
       "      <td>50.000000</td>\n",
       "      <td>38.000000</td>\n",
       "    </tr>\n",
       "  </tbody>\n",
       "</table>\n",
       "</div>"
      ],
      "text/plain": [
       "                 id   bus_stop_id       bus_id    enter_sum     exit_sum  \\\n",
       "count  4.694000e+03  4.694000e+03  4694.000000  4694.000000  4694.000000   \n",
       "mean   1.947989e+09  2.017746e+05  1845.310609     2.087133     2.255432   \n",
       "std    3.960255e+06  9.666423e+06  1483.316699     3.026672     3.059351   \n",
       "min    1.941940e+09  1.373000e+03  1117.000000     0.000000     0.000000   \n",
       "25%    1.944417e+09  1.961000e+03  1122.000000     0.000000     0.000000   \n",
       "50%    1.948003e+09  2.135500e+03  1129.000000     1.000000     1.000000   \n",
       "75%    1.951402e+09  2.359000e+03  1130.000000     3.000000     3.000000   \n",
       "max    1.954772e+09  4.683761e+08  4901.000000    32.000000    29.000000   \n",
       "\n",
       "       route_number  tickets_count  \n",
       "count   4694.000000    4684.000000  \n",
       "mean      46.618662       2.104184  \n",
       "std       10.696553       2.969385  \n",
       "min       12.000000       0.000000  \n",
       "25%       50.000000       0.000000  \n",
       "50%       50.000000       1.000000  \n",
       "75%       50.000000       3.000000  \n",
       "max       50.000000      38.000000  "
      ]
     },
     "execution_count": 244,
     "metadata": {},
     "output_type": "execute_result"
    }
   ],
   "source": [
    "# Basic information about the dataset\n",
    "data.info()\n",
    "\n",
    "# Summary statistics\n",
    "data.describe()"
   ]
  },
  {
   "cell_type": "markdown",
   "metadata": {},
   "source": [
    "### 🛠 Basic Information"
   ]
  },
  {
   "cell_type": "code",
   "execution_count": 245,
   "metadata": {},
   "outputs": [
    {
     "data": {
      "text/plain": [
       "id                               0\n",
       "bus_stop_id                      0\n",
       "bus_id                           0\n",
       "enter_sum                        0\n",
       "exit_sum                         0\n",
       "bus_board_computer_sent_time     0\n",
       "created_time                     0\n",
       "route_number                     0\n",
       "tickets_count                   10\n",
       "dtype: int64"
      ]
     },
     "execution_count": 245,
     "metadata": {},
     "output_type": "execute_result"
    }
   ],
   "source": [
    "# Check for missing values\n",
    "data.isnull().sum()"
   ]
  },
  {
   "cell_type": "markdown",
   "metadata": {},
   "source": [
    "## 📈 Step 3: Exploratory Data Analysis (EDA)\n",
    "\n",
    "### 🎯 Passenger Flow Metrics\n",
    "We compute the net flow of passengers as the difference between enter_sum and exit_sum."
   ]
  },
  {
   "cell_type": "code",
   "execution_count": 246,
   "metadata": {},
   "outputs": [
    {
     "data": {
      "text/html": [
       "<div>\n",
       "<style scoped>\n",
       "    .dataframe tbody tr th:only-of-type {\n",
       "        vertical-align: middle;\n",
       "    }\n",
       "\n",
       "    .dataframe tbody tr th {\n",
       "        vertical-align: top;\n",
       "    }\n",
       "\n",
       "    .dataframe thead th {\n",
       "        text-align: right;\n",
       "    }\n",
       "</style>\n",
       "<table border=\"1\" class=\"dataframe\">\n",
       "  <thead>\n",
       "    <tr style=\"text-align: right;\">\n",
       "      <th></th>\n",
       "      <th>id</th>\n",
       "      <th>bus_stop_id</th>\n",
       "      <th>bus_id</th>\n",
       "      <th>enter_sum</th>\n",
       "      <th>exit_sum</th>\n",
       "      <th>bus_board_computer_sent_time</th>\n",
       "      <th>created_time</th>\n",
       "      <th>route_number</th>\n",
       "      <th>tickets_count</th>\n",
       "      <th>net_flow</th>\n",
       "    </tr>\n",
       "  </thead>\n",
       "  <tbody>\n",
       "    <tr>\n",
       "      <th>0</th>\n",
       "      <td>1943536686</td>\n",
       "      <td>3351</td>\n",
       "      <td>1130</td>\n",
       "      <td>0</td>\n",
       "      <td>13</td>\n",
       "      <td>2024-12-07T12:18:33.793</td>\n",
       "      <td>2024-12-07T12:23:55.523</td>\n",
       "      <td>50</td>\n",
       "      <td>0.0</td>\n",
       "      <td>-13</td>\n",
       "    </tr>\n",
       "    <tr>\n",
       "      <th>1</th>\n",
       "      <td>1944382769</td>\n",
       "      <td>1583</td>\n",
       "      <td>1130</td>\n",
       "      <td>6</td>\n",
       "      <td>3</td>\n",
       "      <td>2024-12-07T15:19:20.206</td>\n",
       "      <td>2024-12-07T15:19:23.203</td>\n",
       "      <td>50</td>\n",
       "      <td>4.0</td>\n",
       "      <td>3</td>\n",
       "    </tr>\n",
       "    <tr>\n",
       "      <th>2</th>\n",
       "      <td>1942750230</td>\n",
       "      <td>1665</td>\n",
       "      <td>4901</td>\n",
       "      <td>9</td>\n",
       "      <td>0</td>\n",
       "      <td>2024-12-07T09:23:26.477</td>\n",
       "      <td>2024-12-07T09:28:44.387</td>\n",
       "      <td>12</td>\n",
       "      <td>11.0</td>\n",
       "      <td>9</td>\n",
       "    </tr>\n",
       "    <tr>\n",
       "      <th>3</th>\n",
       "      <td>1942714572</td>\n",
       "      <td>2366</td>\n",
       "      <td>1129</td>\n",
       "      <td>1</td>\n",
       "      <td>5</td>\n",
       "      <td>2024-12-07T09:13:17.693</td>\n",
       "      <td>2024-12-07T09:21:03.46</td>\n",
       "      <td>50</td>\n",
       "      <td>2.0</td>\n",
       "      <td>-4</td>\n",
       "    </tr>\n",
       "    <tr>\n",
       "      <th>4</th>\n",
       "      <td>1944416426</td>\n",
       "      <td>1963</td>\n",
       "      <td>1129</td>\n",
       "      <td>5</td>\n",
       "      <td>8</td>\n",
       "      <td>2024-12-07T15:17:55.33</td>\n",
       "      <td>2024-12-07T15:26:59.704</td>\n",
       "      <td>50</td>\n",
       "      <td>1.0</td>\n",
       "      <td>-3</td>\n",
       "    </tr>\n",
       "  </tbody>\n",
       "</table>\n",
       "</div>"
      ],
      "text/plain": [
       "           id  bus_stop_id  bus_id  enter_sum  exit_sum  \\\n",
       "0  1943536686         3351    1130          0        13   \n",
       "1  1944382769         1583    1130          6         3   \n",
       "2  1942750230         1665    4901          9         0   \n",
       "3  1942714572         2366    1129          1         5   \n",
       "4  1944416426         1963    1129          5         8   \n",
       "\n",
       "  bus_board_computer_sent_time             created_time  route_number  \\\n",
       "0      2024-12-07T12:18:33.793  2024-12-07T12:23:55.523            50   \n",
       "1      2024-12-07T15:19:20.206  2024-12-07T15:19:23.203            50   \n",
       "2      2024-12-07T09:23:26.477  2024-12-07T09:28:44.387            12   \n",
       "3      2024-12-07T09:13:17.693   2024-12-07T09:21:03.46            50   \n",
       "4       2024-12-07T15:17:55.33  2024-12-07T15:26:59.704            50   \n",
       "\n",
       "   tickets_count  net_flow  \n",
       "0            0.0       -13  \n",
       "1            4.0         3  \n",
       "2           11.0         9  \n",
       "3            2.0        -4  \n",
       "4            1.0        -3  "
      ]
     },
     "execution_count": 246,
     "metadata": {},
     "output_type": "execute_result"
    }
   ],
   "source": [
    "# Calculate net passenger flow\n",
    "data['net_flow'] = data['enter_sum'] - data['exit_sum']\n",
    "\n",
    "# Preview the updated dataset\n",
    "data.head()"
   ]
  },
  {
   "cell_type": "markdown",
   "metadata": {},
   "source": [
    "### 🕒 Temporal Features\n",
    "Extracting meaningful features from the timestamps, such as hour and day of the week."
   ]
  },
  {
   "cell_type": "code",
   "execution_count": 247,
   "metadata": {},
   "outputs": [
    {
     "name": "stdout",
     "output_type": "stream",
     "text": [
      "Rows with failed datetime conversion: 0\n"
     ]
    },
    {
     "data": {
      "text/html": [
       "<div>\n",
       "<style scoped>\n",
       "    .dataframe tbody tr th:only-of-type {\n",
       "        vertical-align: middle;\n",
       "    }\n",
       "\n",
       "    .dataframe tbody tr th {\n",
       "        vertical-align: top;\n",
       "    }\n",
       "\n",
       "    .dataframe thead th {\n",
       "        text-align: right;\n",
       "    }\n",
       "</style>\n",
       "<table border=\"1\" class=\"dataframe\">\n",
       "  <thead>\n",
       "    <tr style=\"text-align: right;\">\n",
       "      <th></th>\n",
       "      <th>bus_board_computer_sent_time</th>\n",
       "      <th>hour</th>\n",
       "      <th>day_of_week</th>\n",
       "    </tr>\n",
       "  </thead>\n",
       "  <tbody>\n",
       "    <tr>\n",
       "      <th>0</th>\n",
       "      <td>2024-12-07 12:18:33.793</td>\n",
       "      <td>12</td>\n",
       "      <td>Saturday</td>\n",
       "    </tr>\n",
       "    <tr>\n",
       "      <th>1</th>\n",
       "      <td>2024-12-07 15:19:20.206</td>\n",
       "      <td>15</td>\n",
       "      <td>Saturday</td>\n",
       "    </tr>\n",
       "    <tr>\n",
       "      <th>2</th>\n",
       "      <td>2024-12-07 09:23:26.477</td>\n",
       "      <td>9</td>\n",
       "      <td>Saturday</td>\n",
       "    </tr>\n",
       "    <tr>\n",
       "      <th>3</th>\n",
       "      <td>2024-12-07 09:13:17.693</td>\n",
       "      <td>9</td>\n",
       "      <td>Saturday</td>\n",
       "    </tr>\n",
       "    <tr>\n",
       "      <th>4</th>\n",
       "      <td>2024-12-07 15:17:55.330</td>\n",
       "      <td>15</td>\n",
       "      <td>Saturday</td>\n",
       "    </tr>\n",
       "  </tbody>\n",
       "</table>\n",
       "</div>"
      ],
      "text/plain": [
       "  bus_board_computer_sent_time  hour day_of_week\n",
       "0      2024-12-07 12:18:33.793    12    Saturday\n",
       "1      2024-12-07 15:19:20.206    15    Saturday\n",
       "2      2024-12-07 09:23:26.477     9    Saturday\n",
       "3      2024-12-07 09:13:17.693     9    Saturday\n",
       "4      2024-12-07 15:17:55.330    15    Saturday"
      ]
     },
     "execution_count": 247,
     "metadata": {},
     "output_type": "execute_result"
    }
   ],
   "source": [
    "# Convert timestamps to datetime format, handling mixed formats\n",
    "data['bus_board_computer_sent_time'] = pd.to_datetime(data['bus_board_computer_sent_time'], format='mixed', errors='coerce')\n",
    "data['created_time'] = pd.to_datetime(data['created_time'], format='mixed', errors='coerce')\n",
    "\n",
    "# Check for any rows where conversion failed\n",
    "failed_conversion = data[data['bus_board_computer_sent_time'].isnull() | data['created_time'].isnull()]\n",
    "print(f\"Rows with failed datetime conversion: {len(failed_conversion)}\")\n",
    "\n",
    "# Optionally, inspect rows with failed conversion\n",
    "if not failed_conversion.empty:\n",
    "    print(failed_conversion)\n",
    "\n",
    "# If necessary, drop rows with invalid datetime entries\n",
    "data = data.dropna(subset=['bus_board_computer_sent_time', 'created_time']).reset_index(drop=True)\n",
    "\n",
    "# Extract time-based features\n",
    "data['hour'] = data['bus_board_computer_sent_time'].dt.hour\n",
    "data['day_of_week'] = data['bus_board_computer_sent_time'].dt.day_name()\n",
    "\n",
    "# Preview the updated dataset\n",
    "data[['bus_board_computer_sent_time', 'hour', 'day_of_week']].head()"
   ]
  },
  {
   "cell_type": "markdown",
   "metadata": {},
   "source": [
    "## 📊 Step 4: Visualization\n",
    "### Passenger Flow by Hour"
   ]
  },
  {
   "cell_type": "code",
   "execution_count": 248,
   "metadata": {},
   "outputs": [
    {
     "data": {
      "image/png": "[encoded data removed]",
      "text/plain": [
       "<Figure size 1000x600 with 1 Axes>"
      ]
     },
     "metadata": {},
     "output_type": "display_data"
    }
   ],
   "source": [
    "# Average net passenger flow by hour\n",
    "hourly_flow = data.groupby('hour')['net_flow'].mean()\n",
    "\n",
    "# Plotting\n",
    "plt.figure(figsize=(10, 6))\n",
    "hourly_flow.plot(kind='bar')\n",
    "plt.title('Average Net Passenger Flow by Hour')\n",
    "plt.xlabel('Hour of Day')\n",
    "plt.ylabel('Average Net Flow')\n",
    "plt.xticks(rotation=0)\n",
    "plt.grid(axis='y')\n",
    "plt.show()"
   ]
  },
  {
   "cell_type": "markdown",
   "metadata": {},
   "source": [
    "**Insights:**\n",
    "1. The significant peak in net flow at 5 AM suggests early morning routes are heavily utilized, potentially due to work commuters or specific routes starting earlier.\n",
    "2. Negative net flow during evening hours (e.g., 10 PM - 11 PM) indicates more passengers are exiting than entering buses, aligning with end-of-day commutes.\n",
    "\n",
    "**Actionable Ideas:**\n",
    "1. Focus predictive modeling efforts on peak and off-peak times separately.\n",
    "2. Further investigate routes active at 5 AM for possible over-utilization."
   ]
  },
  {
   "cell_type": "markdown",
   "metadata": {},
   "source": [
    "### Correlation Heatmap"
   ]
  },
  {
   "cell_type": "code",
   "execution_count": 249,
   "metadata": {},
   "outputs": [
    {
     "data": {
      "image/png": "[encoded data removed]",
      "text/plain": [
       "<Figure size 800x600 with 2 Axes>"
      ]
     },
     "metadata": {},
     "output_type": "display_data"
    }
   ],
   "source": [
    "# Correlation matrix\n",
    "correlation_matrix = data[['enter_sum', 'exit_sum', 'net_flow', 'tickets_count']].corr()\n",
    "\n",
    "# Heatmap\n",
    "plt.figure(figsize=(8, 6))\n",
    "sns.heatmap(correlation_matrix, annot=True, cmap='coolwarm', fmt='.2f')\n",
    "plt.title('Correlation Heatmap')\n",
    "plt.show()"
   ]
  },
  {
   "cell_type": "markdown",
   "metadata": {},
   "source": [
    "**Key Correlations:**\n",
    "1. Strong positive correlation between enter_sum and tickets_count (0.81) indicates ticket count accurately reflects inflow.\n",
    "2. Moderate negative correlation between exit_sum and net_flow (-0.64) highlights the impact of exits on overall flow.\n",
    "\n",
    "**Implications:**\n",
    "1. Use tickets_count as a reliable feature for flow prediction.\n",
    "2. Account for the exit dynamics when designing the hybrid model."
   ]
  },
  {
   "cell_type": "markdown",
   "metadata": {},
   "source": [
    "### Passenger Flow by Route"
   ]
  },
  {
   "cell_type": "code",
   "execution_count": 250,
   "metadata": {},
   "outputs": [
    {
     "data": {
      "image/png": "[encoded data removed]",
      "text/plain": [
       "<Figure size 1200x600 with 1 Axes>"
      ]
     },
     "metadata": {},
     "output_type": "display_data"
    }
   ],
   "source": [
    "# Average net passenger flow by route\n",
    "route_flow = data.groupby('route_number')['net_flow'].mean().sort_values(ascending=False)\n",
    "\n",
    "# Plotting\n",
    "plt.figure(figsize=(12, 6))\n",
    "route_flow.plot(kind='bar', color='skyblue')\n",
    "plt.title('Average Net Passenger Flow by Route')\n",
    "plt.xlabel('Route Number')\n",
    "plt.ylabel('Average Net Flow')\n",
    "plt.xticks(rotation=45)\n",
    "plt.grid(axis='y')\n",
    "plt.show()"
   ]
  },
  {
   "cell_type": "markdown",
   "metadata": {},
   "source": [
    "Observations:\n",
    "1. **Negative Net Flow Across All Routes:**\n",
    "\t- All displayed routes have a negative average net flow, meaning more passengers are exiting than entering buses on these routes.\n",
    "\t- This trend suggests these routes primarily serve as destinations or final stops for passengers.\n",
    "2. **Route-Specific Differences:**\n",
    "\t- Route 50: Shows the least negative average net flow, indicating relatively balanced inflow and outflow compared to the other routes.\n",
    " \t- Route 12: Has a more significant negative net flow, suggesting it serves areas with high passenger drop-offs.\n",
    " \t- Route 46: Exhibits the highest negative net flow, likely serving as a terminal route or connecting heavily populated areas to major destinations.\n",
    "\n",
    "Implications\n",
    "1. **Route-Specific Dynamics:**\n",
    "\t- Route 46 may require additional buses or alternative scheduling to handle higher exit rates during peak hours.\n",
    "\t- Routes 12 and 50 show relatively smaller negative flows, suggesting less extreme passenger drop-off trends.\n",
    "2. **Passenger Flow Prediction:**\n",
    "\t- Incorporating route-specific attributes into the hybrid model could improve the prediction of passenger flow trends.\n",
    "\t- Routes with highly negative net flows could benefit from additional features like nearby population density or connection points."
   ]
  },
  {
   "cell_type": "markdown",
   "metadata": {},
   "source": [
    "### Inflow and Outflow Trends by Hour"
   ]
  },
  {
   "cell_type": "code",
   "execution_count": 251,
   "metadata": {},
   "outputs": [
    {
     "data": {
      "image/png": "[encoded data removed]",
      "text/plain": [
       "<Figure size 1200x600 with 1 Axes>"
      ]
     },
     "metadata": {},
     "output_type": "display_data"
    }
   ],
   "source": [
    "# Aggregate inflow and outflow by hour\n",
    "hourly_data = data.groupby('hour').agg({'enter_sum': 'mean', 'exit_sum': 'mean'})\n",
    "\n",
    "# Plot inflow and outflow trends\n",
    "plt.figure(figsize=(12, 6))\n",
    "hourly_data['enter_sum'].plot(label='Average Inflow', marker='o')\n",
    "hourly_data['exit_sum'].plot(label='Average Outflow', marker='o')\n",
    "plt.title('Passenger Inflow and Outflow Trends by Hour')\n",
    "plt.xlabel('Hour of Day')\n",
    "plt.ylabel('Average Passenger Count')\n",
    "plt.xticks(range(0, 24))\n",
    "plt.legend()\n",
    "plt.grid()\n",
    "plt.show()\n"
   ]
  },
  {
   "cell_type": "markdown",
   "metadata": {},
   "source": [
    "Key Observations:\n",
    "1. **Early Morning Peak (5 AM):**\n",
    "\t- Inflow spikes dramatically at 5 AM with an average of 10 passengers boarding, while outflow remains minimal.\n",
    "\t- Likely corresponds to the start of the day when people are traveling to work or school.\n",
    "2. **Balance Throughout the Day (6 AM - 8 PM):**\n",
    "\t- Inflow and outflow align closely between 6 AM and 8 PM, with minor fluctuations.\n",
    "\t- Indicates buses are evenly serving passengers traveling both to and from destinations during working hours.\n",
    "3. **Evening Decline (9 PM Onwards):**\n",
    "\t- Outflow surpasses inflow after 9 PM, suggesting passengers are returning home or exiting buses at terminal stops.\n",
    "\t- The small increase in outflow at 10 PM highlights the end-of-day commute.\n",
    "\n",
    "Insights:\n",
    "1. **Morning Surge:**\n",
    "\t- The sharp inflow peak at 5 AM likely requires additional resources (e.g., more buses) to accommodate demand.\n",
    "2. **Evening Commute:**\n",
    "\t- A slight increase in outflow during the evening indicates a shift in focus towards handling passenger exits.\n",
    "3. **Operational Efficiency:**\n",
    "\t- The alignment of inflow and outflow during the day suggests an optimized schedule that meets commuter needs."
   ]
  },
  {
   "cell_type": "markdown",
   "metadata": {},
   "source": [
    "### Passenger Flow by Day of the Week"
   ]
  },
  {
   "cell_type": "code",
   "execution_count": 252,
   "metadata": {},
   "outputs": [
    {
     "data": {
      "image/png": "[encoded data removed]",
      "text/plain": [
       "<Figure size 1000x600 with 1 Axes>"
      ]
     },
     "metadata": {},
     "output_type": "display_data"
    }
   ],
   "source": [
    "# Average net passenger flow by day of the week\n",
    "day_flow = data.groupby('day_of_week')['net_flow'].mean()\n",
    "day_flow = day_flow.reindex(['Monday', 'Tuesday', 'Wednesday', 'Thursday', 'Friday', 'Saturday', 'Sunday'])  # Correct ordering\n",
    "\n",
    "# Plotting\n",
    "plt.figure(figsize=(10, 6))\n",
    "day_flow.plot(kind='bar', color='lightcoral')\n",
    "plt.title('Average Net Passenger Flow by Day of the Week')\n",
    "plt.xlabel('Day of the Week')\n",
    "plt.ylabel('Average Net Flow')\n",
    "plt.xticks(rotation=45)\n",
    "plt.grid(axis='y')\n",
    "plt.show()"
   ]
  },
  {
   "cell_type": "markdown",
   "metadata": {},
   "source": [
    "Key Observations:\n",
    "1. **Weekday Stability (Monday - Friday):**\n",
    "\t- The average net flow is relatively close to zero for weekdays.\n",
    "\t- This indicates a balanced inflow and outflow during regular working days, suggesting typical commuting patterns.\n",
    "2. **Weekend Decline (Saturday and Sunday):**\n",
    "\t- The most significant negative net flows occur on Saturday and Sunday, with Saturday showing the highest negative flow.\n",
    "\t- This trend suggests that buses are primarily serving passengers exiting at major destinations (e.g., shopping centers, recreational areas) during weekends, with fewer passengers boarding.\n",
    "\n",
    "Insights:\n",
    "1. **Weekend Behavior:**\n",
    "\t- The pronounced negative net flow on weekends could indicate fewer return trips during the same day, as people might use alternative transportation methods (e.g., cars, bikes) for their return journeys.\n",
    "2.**Weekday Efficiency:**\n",
    "\t- Balanced flows on weekdays suggest that bus routes are effectively serving commuter needs with consistent boarding and exiting patterns.\n",
    "3. **Operational Impact:**\n",
    "\t- Lower net flow on weekends might indicate reduced demand, allowing for potential optimization of weekend schedules."
   ]
  },
  {
   "cell_type": "markdown",
   "metadata": {},
   "source": [
    "## Step 5: Feature Engineering\n",
    "Using the insights from visualizations and analysis, we will create meaningful features for the model.\n",
    "\n",
    "Features to Engineer:\n",
    "1. **Temporal Features:**\n",
    "\t- hour (already created).\n",
    "\t- day_of_week (already created).\n",
    "\t- is_weekend (1 if Saturday/Sunday, 0 otherwise).\n",
    "2. **Lag Features:**\n",
    "\t- Lagged inflow (enter_sum_lag1, enter_sum_lag2) and outflow (exit_sum_lag1, exit_sum_lag2).\n",
    "\t- Lagged net flow (net_flow_lag1, net_flow_lag2).\n",
    "3. **Rolling Statistics:**\n",
    "\t- Rolling averages for enter_sum, exit_sum, and net_flow.\n",
    "4. **Categorical Encodings:**\n",
    "\t- One-hot encoding or label encoding for route_number and day_of_week."
   ]
  },
  {
   "cell_type": "code",
   "execution_count": 253,
   "metadata": {},
   "outputs": [
    {
     "name": "stdout",
     "output_type": "stream",
     "text": [
      "           id  bus_stop_id  bus_id  enter_sum  exit_sum  \\\n",
      "0  1941950846         3352    1130          9         0   \n",
      "1  1941956601         3354    1130          0         0   \n",
      "2  1941958057         1474    1122          0         0   \n",
      "3  1941958222         3355    1130          2         0   \n",
      "4  1941965415         1477    1122          1         0   \n",
      "\n",
      "  bus_board_computer_sent_time            created_time  tickets_count  \\\n",
      "0      2024-12-07 06:30:57.820 2024-12-07 06:31:42.859            9.0   \n",
      "1      2024-12-07 06:33:08.180 2024-12-07 06:34:29.369            0.0   \n",
      "2      2024-12-07 06:33:50.617 2024-12-07 06:35:09.879            0.0   \n",
      "3      2024-12-07 06:33:51.983 2024-12-07 06:35:15.217            1.0   \n",
      "4      2024-12-07 06:34:35.608 2024-12-07 06:38:16.073            1.0   \n",
      "\n",
      "   net_flow  hour  ...  enter_sum_lag2  exit_sum_lag2  net_flow_lag2  \\\n",
      "0         9     6  ...             3.0            0.0            3.0   \n",
      "1         0     6  ...             7.0            1.0            6.0   \n",
      "2         0     6  ...             9.0            0.0            9.0   \n",
      "3         2     6  ...             0.0            0.0            0.0   \n",
      "4         1     6  ...             0.0            0.0            0.0   \n",
      "\n",
      "   enter_sum_rolling_avg  exit_sum_rolling_avg  net_flow_rolling_avg  \\\n",
      "0               6.333333              0.333333              6.000000   \n",
      "1               5.333333              0.333333              5.000000   \n",
      "2               3.000000              0.000000              3.000000   \n",
      "3               0.666667              0.000000              0.666667   \n",
      "4               1.000000              0.000000              1.000000   \n",
      "\n",
      "   route_number_46  route_number_50  day_of_week_Saturday  day_of_week_Sunday  \n",
      "0            False             True                  True               False  \n",
      "1            False             True                  True               False  \n",
      "2            False             True                  True               False  \n",
      "3            False             True                  True               False  \n",
      "4            False             True                  True               False  \n",
      "\n",
      "[5 rows x 24 columns]\n",
      "Final dataset shape: (4682, 24)\n"
     ]
    }
   ],
   "source": [
    "# Ensure the timestamp columns are in datetime format\n",
    "data['bus_board_computer_sent_time'] = pd.to_datetime(data['bus_board_computer_sent_time'], errors='coerce')\n",
    "\n",
    "# Drop rows where timestamps could not be converted\n",
    "data = data.dropna(subset=['bus_board_computer_sent_time']).reset_index(drop=True)\n",
    "\n",
    "# Extract temporal features\n",
    "data['hour'] = data['bus_board_computer_sent_time'].dt.hour\n",
    "data['day_of_week'] = data['bus_board_computer_sent_time'].dt.day_name()  # Extract day name\n",
    "data['is_weekend'] = data['day_of_week'].isin(['Saturday', 'Sunday']).astype(int)\n",
    "\n",
    "# Sort by timestamp for lag feature creation\n",
    "data = data.sort_values(by='bus_board_computer_sent_time').reset_index(drop=True)\n",
    "\n",
    "# Create lag features (e.g., 1-hour lag, 2-hour lag)\n",
    "for lag in [1, 2]:\n",
    "    data[f'enter_sum_lag{lag}'] = data['enter_sum'].shift(lag)\n",
    "    data[f'exit_sum_lag{lag}'] = data['exit_sum'].shift(lag)\n",
    "    data[f'net_flow_lag{lag}'] = data['net_flow'].shift(lag)\n",
    "\n",
    "# Create rolling average features\n",
    "rolling_window = 3\n",
    "data['enter_sum_rolling_avg'] = data['enter_sum'].rolling(window=rolling_window).mean()\n",
    "data['exit_sum_rolling_avg'] = data['exit_sum'].rolling(window=rolling_window).mean()\n",
    "data['net_flow_rolling_avg'] = data['net_flow'].rolling(window=rolling_window).mean()\n",
    "\n",
    "# One-hot encode categorical variables (route_number and day_of_week)\n",
    "data = pd.get_dummies(data, columns=['route_number', 'day_of_week'], drop_first=True)\n",
    "\n",
    "# Drop rows with NaNs generated by lag and rolling features\n",
    "data = data.dropna().reset_index(drop=True)\n",
    "\n",
    "# Preview the final dataset\n",
    "print(data.head())\n",
    "print(f\"Final dataset shape: {data.shape}\")"
   ]
  },
  {
   "cell_type": "markdown",
   "metadata": {},
   "source": [
    "Step 6: Splitting the Dataset\n",
    "We'll split the dataset into training, validation, and test sets using a time-based split to preserve temporal order."
   ]
  },
  {
   "cell_type": "code",
   "execution_count": 254,
   "metadata": {},
   "outputs": [
    {
     "name": "stdout",
     "output_type": "stream",
     "text": [
      "Train size: 3277, Validation size: 702, Test size: 703\n"
     ]
    }
   ],
   "source": [
    "# Split the data into training, validation, and test sets (time-based)\n",
    "train_size = 0.7\n",
    "val_size = 0.15\n",
    "\n",
    "train_index = int(len(data) * train_size)\n",
    "val_index = int(len(data) * (train_size + val_size))\n",
    "\n",
    "train_data = data[:train_index]\n",
    "val_data = data[train_index:val_index]\n",
    "test_data = data[val_index:]\n",
    "\n",
    "# Check the sizes of each split\n",
    "print(f\"Train size: {len(train_data)}, Validation size: {len(val_data)}, Test size: {len(test_data)}\")"
   ]
  },
  {
   "cell_type": "markdown",
   "metadata": {},
   "source": [
    "Step 7: Baseline Model Setup\n",
    "We’ll start with a simple baseline regression model (e.g., Random Forest or XGBoost) to predict net_flow."
   ]
  },
  {
   "cell_type": "code",
   "execution_count": 255,
   "metadata": {},
   "outputs": [
    {
     "name": "stdout",
     "output_type": "stream",
     "text": [
      "Validation RMSE: 0.44\n",
      "Validation MAE: 0.05\n"
     ]
    }
   ],
   "source": [
    "from sklearn.ensemble import RandomForestRegressor\n",
    "from sklearn.metrics import root_mean_squared_error, mean_absolute_error\n",
    "\n",
    "# Define target and features\n",
    "target = 'net_flow'\n",
    "features = [col for col in data.columns if col not in ['net_flow', 'id', 'bus_board_computer_sent_time', 'created_time']]\n",
    "\n",
    "# Prepare training, validation, and testing data\n",
    "X_train, y_train = train_data[features], train_data[target]\n",
    "X_val, y_val = val_data[features], val_data[target]\n",
    "X_test, y_test = test_data[features], test_data[target]\n",
    "\n",
    "# Train a Random Forest Regressor\n",
    "rf_model = RandomForestRegressor(n_estimators=100, random_state=42)\n",
    "rf_model.fit(X_train, y_train)\n",
    "\n",
    "# Evaluate on validation set\n",
    "val_predictions = rf_model.predict(X_val)\n",
    "val_rmse = root_mean_squared_error(y_val, val_predictions)\n",
    "val_mae = mean_absolute_error(y_val, val_predictions)\n",
    "\n",
    "print(f\"Validation RMSE: {val_rmse:.2f}\")\n",
    "print(f\"Validation MAE: {val_mae:.2f}\")"
   ]
  },
  {
   "cell_type": "markdown",
   "metadata": {},
   "source": [
    "1. **Validation RMSE (Root Mean Squared Error): 0.44**\n",
    "\t- This indicates that, on average, the predicted net passenger flow deviates by 0.44 passengers from the actual flow in the validation set.\n",
    "\t- A relatively low RMSE suggests the model captures general patterns but might still miss some finer details.\n",
    "\n",
    "2. **Validation MAE (Mean Absolute Error): 0.05**\n",
    "\t- The average absolute error between predictions and actual values is 0.05 passengers, which is very low.\n",
    "\t- This shows that the model predictions are generally close to actual values without significant outliers.\n",
    "\n",
    "3. **Performance Implication:**\n",
    "\t- The baseline Random Forest model performs well, indicating that the engineered features (e.g., lags, rolling averages, and temporal features) are meaningful for predicting net passenger flow.\n",
    "\t- However, further improvements (e.g., feature tuning, hyperparameter optimization, or advanced models) may reduce errors further, especially during peak or irregular periods."
   ]
  },
  {
   "cell_type": "markdown",
   "metadata": {},
   "source": [
    "## Step 8: Fine-Tuning\n",
    "\n",
    "Fine-tuning the baseline model involves optimizing hyperparameters to improve its performance. For the Random Forest Regressor, key hyperparameters to tune include:\n",
    "1. Number of Trees (n_estimators): More trees can improve performance but increase training time.\n",
    "2. Tree Depth (max_depth): Controls the depth of each tree, affecting overfitting.\n",
    "3. Minimum Samples Split/Leaf (min_samples_split, min_samples_leaf): Prevents trees from growing too deep.\n",
    "4. Feature Sampling (max_features): Determines how many features each tree considers at each split.\n",
    "\n",
    "**Fine-Tuning Approach**\n",
    "We'll use Grid Search or Randomized Search to find the best hyperparameters. Here’s the step-by-step implementation:"
   ]
  },
  {
   "cell_type": "code",
   "execution_count": 256,
   "metadata": {},
   "outputs": [
    {
     "name": "stdout",
     "output_type": "stream",
     "text": [
      "Fitting 3 folds for each of 324 candidates, totalling 972 fits\n",
      "Best Hyperparameters: {'max_depth': None, 'max_features': None, 'min_samples_leaf': 1, 'min_samples_split': 2, 'n_estimators': 200}\n",
      "Optimized Validation RMSE: 0.44\n",
      "Optimized Validation MAE: 0.05\n"
     ]
    }
   ],
   "source": [
    "from sklearn.ensemble import RandomForestRegressor\n",
    "from sklearn.model_selection import GridSearchCV\n",
    "from sklearn.metrics import root_mean_squared_error, mean_absolute_error\n",
    "\n",
    "# Define the model\n",
    "rf_model = RandomForestRegressor(random_state=42)\n",
    "\n",
    "# Define the hyperparameter grid\n",
    "param_grid = {\n",
    "    'n_estimators': [50, 100, 200],\n",
    "    'max_depth': [None, 10, 20, 30],\n",
    "    'min_samples_split': [2, 5, 10],\n",
    "    'min_samples_leaf': [1, 2, 4],\n",
    "    'max_features': ['sqrt', 'log2', None]\n",
    "}\n",
    "\n",
    "# Use GridSearchCV to find the best parameters\n",
    "grid_search = GridSearchCV(\n",
    "    estimator=rf_model,\n",
    "    param_grid=param_grid,\n",
    "    cv=3,  # 3-fold cross-validation\n",
    "    scoring='neg_mean_squared_error',  # Optimize for RMSE\n",
    "    verbose=2,\n",
    "    n_jobs=-1  # Use all available processors\n",
    ")\n",
    "\n",
    "# Fit GridSearchCV on the training data\n",
    "grid_search.fit(X_train, y_train)\n",
    "\n",
    "# Best hyperparameters\n",
    "print(\"Best Hyperparameters:\", grid_search.best_params_)\n",
    "\n",
    "# Evaluate the best model on the validation set\n",
    "best_rf_model = grid_search.best_estimator_\n",
    "val_predictions = best_rf_model.predict(X_val)\n",
    "val_rmse = root_mean_squared_error(y_val, val_predictions)\n",
    "val_mae = mean_absolute_error(y_val, val_predictions)\n",
    "\n",
    "print(f\"Optimized Validation RMSE: {val_rmse:.2f}\")\n",
    "print(f\"Optimized Validation MAE: {val_mae:.2f}\")\n"
   ]
  },
  {
   "cell_type": "markdown",
   "metadata": {},
   "source": [
    "1. **The optimal hyperparameters are:**\n",
    "\t- max_depth: No limit (trees grow until all leaves are pure or other constraints are met).\n",
    "\t- max_features: All features considered at each split.\n",
    "\t- min_samples_leaf: Minimum of 1 sample per leaf.\n",
    "\t- min_samples_split: Minimum of 2 samples to split an internal node.\n",
    "\t- n_estimators: 200 trees in the forest.\n",
    "\n",
    "2. **Validation RMSE: 0.44**\n",
    "\t- The fine-tuned model achieves the same RMSE as the baseline, indicating no significant improvement in predictive accuracy.\n",
    "\n",
    "3. **Validation MAE: 0.05**\n",
    "\t- The MAE remains unchanged, suggesting that the model's predictions are already very close to actual values.\n",
    "\n",
    "4. **Performance Implication:**\n",
    "\t- The model's performance might be saturated, and further fine-tuning of Random Forest parameters does not yield significant improvements.\n",
    "\t- This indicates the existing features and model might have reached their optimal predictive capacity."
   ]
  },
  {
   "cell_type": "markdown",
   "metadata": {},
   "source": [
    "## Step 10: Advanced Models\n",
    "We will experiment with advanced models such as XGBoost and LightGBM, which are gradient-boosting techniques known for their high performance in structured/tabular data. After training these models, we'll compare their results with each other and the baseline model.\n",
    "\n",
    "\n",
    "### Train and Evaluate XGBoost"
   ]
  },
  {
   "cell_type": "code",
   "execution_count": 257,
   "metadata": {},
   "outputs": [
    {
     "name": "stdout",
     "output_type": "stream",
     "text": [
      "XGBoost Validation RMSE: 0.49\n",
      "XGBoost Validation MAE: 0.16\n"
     ]
    }
   ],
   "source": [
    "from xgboost_model import XGBRegressor\n",
    "from sklearn.metrics import root_mean_squared_error, mean_absolute_error\n",
    "\n",
    "# Initialize XGBoost model\n",
    "xgb_model = XGBRegressor(\n",
    "    n_estimators=200,\n",
    "    max_depth=6,\n",
    "    learning_rate=0.1,\n",
    "    subsample=0.8,\n",
    "    colsample_bytree=0.8,\n",
    "    random_state=42\n",
    ")\n",
    "\n",
    "# Train on the training set\n",
    "xgb_model.fit(X_train, y_train)\n",
    "\n",
    "# Validate on the validation set\n",
    "xgb_val_predictions = xgb_model.predict(X_val)\n",
    "xgb_val_rmse = root_mean_squared_error(y_val, xgb_val_predictions)\n",
    "xgb_val_mae = mean_absolute_error(y_val, xgb_val_predictions)\n",
    "\n",
    "print(f\"XGBoost Validation RMSE: {xgb_val_rmse:.2f}\")\n",
    "print(f\"XGBoost Validation MAE: {xgb_val_mae:.2f}\")"
   ]
  },
  {
   "cell_type": "markdown",
   "metadata": {},
   "source": [
    "1. **Validation RMSE: 0.49**\n",
    "\t- Indicates that the XGBoost model's predictions deviate by an average of 0.49 passengers from the actual net flow on the validation set.\n",
    "\t- This is higher than the baseline Random Forest's RMSE (0.44), suggesting a slight drop in accuracy.\n",
    "\n",
    "2. **Validation MAE: 0.16**\n",
    "\t- The average absolute error between predicted and actual values is 0.16 passengers, which is also higher than the baseline model's MAE (0.05).\n",
    "\n",
    "3. **Implication:**\n",
    "\t- Despite XGBoost's advanced capabilities, it underperformed compared to the simpler Random Forest. This could indicate that the dataset or feature set may not fully leverage XGBoost's boosting mechanism."
   ]
  },
  {
   "cell_type": "markdown",
   "metadata": {},
   "source": [
    "### Train and Evaluate LightGBM"
   ]
  },
  {
   "cell_type": "code",
   "execution_count": 258,
   "metadata": {},
   "outputs": [
    {
     "name": "stdout",
     "output_type": "stream",
     "text": [
      "[LightGBM] [Info] Auto-choosing col-wise multi-threading, the overhead of testing was 0.000275 seconds.\n",
      "You can set `force_col_wise=true` to remove the overhead.\n",
      "[LightGBM] [Info] Total Bins 514\n",
      "[LightGBM] [Info] Number of data points in the train set: 3277, number of used features: 18\n",
      "[LightGBM] [Info] Start training from score -0.166921\n",
      "[LightGBM] [Warning] No further splits with positive gain, best gain: -inf\n",
      "[LightGBM] [Warning] No further splits with positive gain, best gain: -inf\n",
      "[LightGBM] [Warning] No further splits with positive gain, best gain: -inf\n",
      "[LightGBM] [Warning] No further splits with positive gain, best gain: -inf\n",
      "[LightGBM] [Warning] No further splits with positive gain, best gain: -inf\n",
      "[LightGBM] [Warning] No further splits with positive gain, best gain: -inf\n",
      "[LightGBM] [Warning] No further splits with positive gain, best gain: -inf\n",
      "[LightGBM] [Warning] No further splits with positive gain, best gain: -inf\n",
      "[LightGBM] [Warning] No further splits with positive gain, best gain: -inf\n",
      "[LightGBM] [Warning] No further splits with positive gain, best gain: -inf\n",
      "[LightGBM] [Warning] No further splits with positive gain, best gain: -inf\n",
      "[LightGBM] [Warning] No further splits with positive gain, best gain: -inf\n",
      "[LightGBM] [Warning] No further splits with positive gain, best gain: -inf\n",
      "[LightGBM] [Warning] No further splits with positive gain, best gain: -inf\n",
      "[LightGBM] [Warning] No further splits with positive gain, best gain: -inf\n",
      "[LightGBM] [Warning] No further splits with positive gain, best gain: -inf\n",
      "[LightGBM] [Warning] No further splits with positive gain, best gain: -inf\n",
      "[LightGBM] [Warning] No further splits with positive gain, best gain: -inf\n",
      "[LightGBM] [Warning] No further splits with positive gain, best gain: -inf\n",
      "[LightGBM] [Warning] No further splits with positive gain, best gain: -inf\n",
      "[LightGBM] [Warning] No further splits with positive gain, best gain: -inf\n",
      "[LightGBM] [Warning] No further splits with positive gain, best gain: -inf\n",
      "[LightGBM] [Warning] No further splits with positive gain, best gain: -inf\n",
      "[LightGBM] [Warning] No further splits with positive gain, best gain: -inf\n",
      "[LightGBM] [Warning] No further splits with positive gain, best gain: -inf\n",
      "[LightGBM] [Warning] No further splits with positive gain, best gain: -inf\n",
      "[LightGBM] [Warning] No further splits with positive gain, best gain: -inf\n",
      "[LightGBM] [Warning] No further splits with positive gain, best gain: -inf\n",
      "[LightGBM] [Warning] No further splits with positive gain, best gain: -inf\n",
      "[LightGBM] [Warning] No further splits with positive gain, best gain: -inf\n",
      "[LightGBM] [Warning] No further splits with positive gain, best gain: -inf\n",
      "[LightGBM] [Warning] No further splits with positive gain, best gain: -inf\n",
      "[LightGBM] [Warning] No further splits with positive gain, best gain: -inf\n",
      "[LightGBM] [Warning] No further splits with positive gain, best gain: -inf\n",
      "[LightGBM] [Warning] No further splits with positive gain, best gain: -inf\n",
      "[LightGBM] [Warning] No further splits with positive gain, best gain: -inf\n",
      "[LightGBM] [Warning] No further splits with positive gain, best gain: -inf\n",
      "[LightGBM] [Warning] No further splits with positive gain, best gain: -inf\n",
      "[LightGBM] [Warning] No further splits with positive gain, best gain: -inf\n",
      "[LightGBM] [Warning] No further splits with positive gain, best gain: -inf\n",
      "[LightGBM] [Warning] No further splits with positive gain, best gain: -inf\n",
      "[LightGBM] [Warning] No further splits with positive gain, best gain: -inf\n",
      "[LightGBM] [Warning] No further splits with positive gain, best gain: -inf\n",
      "[LightGBM] [Warning] No further splits with positive gain, best gain: -inf\n",
      "[LightGBM] [Warning] No further splits with positive gain, best gain: -inf\n",
      "[LightGBM] [Warning] No further splits with positive gain, best gain: -inf\n",
      "[LightGBM] [Warning] No further splits with positive gain, best gain: -inf\n",
      "[LightGBM] [Warning] No further splits with positive gain, best gain: -inf\n",
      "[LightGBM] [Warning] No further splits with positive gain, best gain: -inf\n",
      "[LightGBM] [Warning] No further splits with positive gain, best gain: -inf\n",
      "[LightGBM] [Warning] No further splits with positive gain, best gain: -inf\n",
      "[LightGBM] [Warning] No further splits with positive gain, best gain: -inf\n",
      "[LightGBM] [Warning] No further splits with positive gain, best gain: -inf\n",
      "[LightGBM] [Warning] No further splits with positive gain, best gain: -inf\n",
      "[LightGBM] [Warning] No further splits with positive gain, best gain: -inf\n",
      "[LightGBM] [Warning] No further splits with positive gain, best gain: -inf\n",
      "[LightGBM] [Warning] No further splits with positive gain, best gain: -inf\n",
      "[LightGBM] [Warning] No further splits with positive gain, best gain: -inf\n",
      "[LightGBM] [Warning] No further splits with positive gain, best gain: -inf\n",
      "[LightGBM] [Warning] No further splits with positive gain, best gain: -inf\n",
      "[LightGBM] [Warning] No further splits with positive gain, best gain: -inf\n",
      "[LightGBM] [Warning] No further splits with positive gain, best gain: -inf\n",
      "[LightGBM] [Warning] No further splits with positive gain, best gain: -inf\n",
      "[LightGBM] [Warning] No further splits with positive gain, best gain: -inf\n",
      "[LightGBM] [Warning] No further splits with positive gain, best gain: -inf\n",
      "[LightGBM] [Warning] No further splits with positive gain, best gain: -inf\n",
      "[LightGBM] [Warning] No further splits with positive gain, best gain: -inf\n",
      "[LightGBM] [Warning] No further splits with positive gain, best gain: -inf\n",
      "[LightGBM] [Warning] No further splits with positive gain, best gain: -inf\n",
      "[LightGBM] [Warning] No further splits with positive gain, best gain: -inf\n",
      "[LightGBM] [Warning] No further splits with positive gain, best gain: -inf\n",
      "[LightGBM] [Warning] No further splits with positive gain, best gain: -inf\n",
      "[LightGBM] [Warning] No further splits with positive gain, best gain: -inf\n",
      "[LightGBM] [Warning] No further splits with positive gain, best gain: -inf\n",
      "[LightGBM] [Warning] No further splits with positive gain, best gain: -inf\n",
      "[LightGBM] [Warning] No further splits with positive gain, best gain: -inf\n",
      "[LightGBM] [Warning] No further splits with positive gain, best gain: -inf\n",
      "[LightGBM] [Warning] No further splits with positive gain, best gain: -inf\n",
      "[LightGBM] [Warning] No further splits with positive gain, best gain: -inf\n",
      "[LightGBM] [Warning] No further splits with positive gain, best gain: -inf\n",
      "[LightGBM] [Warning] No further splits with positive gain, best gain: -inf\n",
      "[LightGBM] [Warning] No further splits with positive gain, best gain: -inf\n",
      "[LightGBM] [Warning] No further splits with positive gain, best gain: -inf\n",
      "[LightGBM] [Warning] No further splits with positive gain, best gain: -inf\n",
      "[LightGBM] [Warning] No further splits with positive gain, best gain: -inf\n",
      "[LightGBM] [Warning] No further splits with positive gain, best gain: -inf\n",
      "[LightGBM] [Warning] No further splits with positive gain, best gain: -inf\n",
      "[LightGBM] [Warning] No further splits with positive gain, best gain: -inf\n",
      "[LightGBM] [Warning] No further splits with positive gain, best gain: -inf\n",
      "[LightGBM] [Warning] No further splits with positive gain, best gain: -inf\n",
      "[LightGBM] [Warning] No further splits with positive gain, best gain: -inf\n",
      "[LightGBM] [Warning] No further splits with positive gain, best gain: -inf\n",
      "[LightGBM] [Warning] No further splits with positive gain, best gain: -inf\n",
      "[LightGBM] [Warning] No further splits with positive gain, best gain: -inf\n",
      "[LightGBM] [Warning] No further splits with positive gain, best gain: -inf\n",
      "[LightGBM] [Warning] No further splits with positive gain, best gain: -inf\n",
      "[LightGBM] [Warning] No further splits with positive gain, best gain: -inf\n",
      "[LightGBM] [Warning] No further splits with positive gain, best gain: -inf\n",
      "[LightGBM] [Warning] No further splits with positive gain, best gain: -inf\n",
      "[LightGBM] [Warning] No further splits with positive gain, best gain: -inf\n",
      "[LightGBM] [Warning] No further splits with positive gain, best gain: -inf\n",
      "[LightGBM] [Warning] No further splits with positive gain, best gain: -inf\n",
      "[LightGBM] [Warning] No further splits with positive gain, best gain: -inf\n",
      "[LightGBM] [Warning] No further splits with positive gain, best gain: -inf\n",
      "[LightGBM] [Warning] No further splits with positive gain, best gain: -inf\n",
      "[LightGBM] [Warning] No further splits with positive gain, best gain: -inf\n",
      "[LightGBM] [Warning] No further splits with positive gain, best gain: -inf\n",
      "[LightGBM] [Warning] No further splits with positive gain, best gain: -inf\n",
      "[LightGBM] [Warning] No further splits with positive gain, best gain: -inf\n",
      "[LightGBM] [Warning] No further splits with positive gain, best gain: -inf\n",
      "[LightGBM] [Warning] No further splits with positive gain, best gain: -inf\n",
      "[LightGBM] [Warning] No further splits with positive gain, best gain: -inf\n",
      "[LightGBM] [Warning] No further splits with positive gain, best gain: -inf\n",
      "[LightGBM] [Warning] No further splits with positive gain, best gain: -inf\n",
      "[LightGBM] [Warning] No further splits with positive gain, best gain: -inf\n",
      "[LightGBM] [Warning] No further splits with positive gain, best gain: -inf\n",
      "[LightGBM] [Warning] No further splits with positive gain, best gain: -inf\n",
      "[LightGBM] [Warning] No further splits with positive gain, best gain: -inf\n",
      "[LightGBM] [Warning] No further splits with positive gain, best gain: -inf\n",
      "[LightGBM] [Warning] No further splits with positive gain, best gain: -inf\n",
      "[LightGBM] [Warning] No further splits with positive gain, best gain: -inf\n",
      "[LightGBM] [Warning] No further splits with positive gain, best gain: -inf\n",
      "[LightGBM] [Warning] No further splits with positive gain, best gain: -inf\n",
      "[LightGBM] [Warning] No further splits with positive gain, best gain: -inf\n",
      "[LightGBM] [Warning] No further splits with positive gain, best gain: -inf\n",
      "[LightGBM] [Warning] No further splits with positive gain, best gain: -inf\n",
      "[LightGBM] [Warning] No further splits with positive gain, best gain: -inf\n",
      "[LightGBM] [Warning] No further splits with positive gain, best gain: -inf\n",
      "[LightGBM] [Warning] No further splits with positive gain, best gain: -inf\n",
      "[LightGBM] [Warning] No further splits with positive gain, best gain: -inf\n",
      "[LightGBM] [Warning] No further splits with positive gain, best gain: -inf\n",
      "[LightGBM] [Warning] No further splits with positive gain, best gain: -inf\n",
      "[LightGBM] [Warning] No further splits with positive gain, best gain: -inf\n",
      "[LightGBM] [Warning] No further splits with positive gain, best gain: -inf\n",
      "[LightGBM] [Warning] No further splits with positive gain, best gain: -inf\n",
      "[LightGBM] [Warning] No further splits with positive gain, best gain: -inf\n",
      "[LightGBM] [Warning] No further splits with positive gain, best gain: -inf\n",
      "[LightGBM] [Warning] No further splits with positive gain, best gain: -inf\n",
      "[LightGBM] [Warning] No further splits with positive gain, best gain: -inf\n",
      "[LightGBM] [Warning] No further splits with positive gain, best gain: -inf\n",
      "[LightGBM] [Warning] No further splits with positive gain, best gain: -inf\n",
      "[LightGBM] [Warning] No further splits with positive gain, best gain: -inf\n",
      "[LightGBM] [Warning] No further splits with positive gain, best gain: -inf\n",
      "[LightGBM] [Warning] No further splits with positive gain, best gain: -inf\n",
      "[LightGBM] [Warning] No further splits with positive gain, best gain: -inf\n",
      "[LightGBM] [Warning] No further splits with positive gain, best gain: -inf\n",
      "[LightGBM] [Warning] No further splits with positive gain, best gain: -inf\n",
      "[LightGBM] [Warning] No further splits with positive gain, best gain: -inf\n",
      "[LightGBM] [Warning] No further splits with positive gain, best gain: -inf\n",
      "[LightGBM] [Warning] No further splits with positive gain, best gain: -inf\n",
      "[LightGBM] [Warning] No further splits with positive gain, best gain: -inf\n",
      "[LightGBM] [Warning] No further splits with positive gain, best gain: -inf\n",
      "[LightGBM] [Warning] No further splits with positive gain, best gain: -inf\n",
      "[LightGBM] [Warning] No further splits with positive gain, best gain: -inf\n",
      "[LightGBM] [Warning] No further splits with positive gain, best gain: -inf\n",
      "[LightGBM] [Warning] No further splits with positive gain, best gain: -inf\n",
      "[LightGBM] [Warning] No further splits with positive gain, best gain: -inf\n",
      "[LightGBM] [Warning] No further splits with positive gain, best gain: -inf\n",
      "[LightGBM] [Warning] No further splits with positive gain, best gain: -inf\n",
      "[LightGBM] [Warning] No further splits with positive gain, best gain: -inf\n",
      "[LightGBM] [Warning] No further splits with positive gain, best gain: -inf\n",
      "[LightGBM] [Warning] No further splits with positive gain, best gain: -inf\n",
      "[LightGBM] [Warning] No further splits with positive gain, best gain: -inf\n",
      "[LightGBM] [Warning] No further splits with positive gain, best gain: -inf\n",
      "[LightGBM] [Warning] No further splits with positive gain, best gain: -inf\n",
      "[LightGBM] [Warning] No further splits with positive gain, best gain: -inf\n",
      "[LightGBM] [Warning] No further splits with positive gain, best gain: -inf\n",
      "[LightGBM] [Warning] No further splits with positive gain, best gain: -inf\n",
      "[LightGBM] [Warning] No further splits with positive gain, best gain: -inf\n",
      "LightGBM Validation RMSE: 0.55\n",
      "LightGBM Validation MAE: 0.16\n"
     ]
    }
   ],
   "source": [
    "from lightgbm import LGBMRegressor\n",
    "\n",
    "# Initialize LightGBM model\n",
    "lgbm_model = LGBMRegressor(\n",
    "    n_estimators=200,\n",
    "    max_depth=6,\n",
    "    learning_rate=0.1,\n",
    "    subsample=0.8,\n",
    "    colsample_bytree=0.8,\n",
    "    random_state=42\n",
    ")\n",
    "\n",
    "# Train on the training set\n",
    "lgbm_model.fit(X_train, y_train)\n",
    "\n",
    "# Validate on the validation set\n",
    "lgbm_val_predictions = lgbm_model.predict(X_val)\n",
    "lgbm_val_rmse = root_mean_squared_error(y_val, lgbm_val_predictions)\n",
    "lgbm_val_mae = mean_absolute_error(y_val, lgbm_val_predictions)\n",
    "\n",
    "print(f\"LightGBM Validation RMSE: {lgbm_val_rmse:.2f}\")\n",
    "print(f\"LightGBM Validation MAE: {lgbm_val_mae:.2f}\")"
   ]
  },
  {
   "cell_type": "markdown",
   "metadata": {},
   "source": [
    "1. **Validation RMSE: 0.55**\n",
    "\t- Indicates that LightGBM predictions deviate by an average of 0.55 passengers from actual values, which is higher than both XGBoost (0.49) and the baseline Random Forest (0.44).\n",
    "\n",
    "2. **Validation MAE: 0.16**\n",
    "\t- LightGBM’s average error is 0.16 passengers, matching XGBoost but higher than the baseline.\n",
    "\n",
    "3. **Implication:**\n",
    "\t- LightGBM performed the weakest among the three models, suggesting that its default structure may not be suitable for this specific dataset or that further hyperparameter tuning is required."
   ]
  },
  {
   "cell_type": "markdown",
   "metadata": {},
   "source": [
    "### Compare Results"
   ]
  },
  {
   "cell_type": "code",
   "execution_count": 259,
   "metadata": {},
   "outputs": [
    {
     "name": "stdout",
     "output_type": "stream",
     "text": [
      "Comparison of Model Results:\n",
      "Baseline Random Forest: RMSE = 0.44, MAE = 0.05\n",
      "XGBoost: RMSE = 0.49, MAE = 0.16\n",
      "LightGBM: RMSE = 0.55, MAE = 0.16\n"
     ]
    }
   ],
   "source": [
    "print(\"Comparison of Model Results:\")\n",
    "print(f\"Baseline Random Forest: RMSE = {val_rmse:.2f}, MAE = {val_mae:.2f}\")\n",
    "print(f\"XGBoost: RMSE = {xgb_val_rmse:.2f}, MAE = {xgb_val_mae:.2f}\")\n",
    "print(f\"LightGBM: RMSE = {lgbm_val_rmse:.2f}, MAE = {lgbm_val_mae:.2f}\")"
   ]
  },
  {
   "cell_type": "markdown",
   "metadata": {},
   "source": [
    "| Model         | Validation RMSE | Validation MAE |\n",
    "|---------------|-----------------|----------------|\n",
    "| Random Forest | 0.44            | 0.05           |\n",
    "| XGBoost       | 0.49            | 0.16           |\n",
    "| LightGBM      | 0.55            | 0.16           |\n",
    "\n",
    "1. **Baseline Random Forest:**\n",
    "\t- Achieved the best results, outperforming both XGBoost and LightGBM.\n",
    "\t- The simplicity of Random Forest combined with the engineered features was sufficient to capture patterns in the data.\n",
    "\n",
    "2. **XGBoost:**\n",
    "\t- Slightly underperformed compared to the baseline, likely due to overfitting or the model's sensitivity to hyperparameters.\n",
    "\n",
    "3. **LightGBM:**\n",
    "\t- Demonstrated the weakest performance, indicating either insufficient adaptation to the dataset or the need for further optimization."
   ]
  }
 ],
 "metadata": {
  "kernelspec": {
   "display_name": ".venv",
   "language": "python",
   "name": "python3"
  },
  "language_info": {
   "codemirror_mode": {
    "name": "ipython",
    "version": 3
   },
   "file_extension": ".py",
   "mimetype": "text/x-python",
   "name": "python",
   "nbconvert_exporter": "python",
   "pygments_lexer": "ipython3",
   "version": "3.12.0"
  }
 },
 "nbformat": 4,
 "nbformat_minor": 2
}
